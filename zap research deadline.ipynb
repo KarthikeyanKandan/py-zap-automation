{
 "cells": [
  {
   "cell_type": "code",
   "execution_count": 1,
   "metadata": {},
   "outputs": [
    {
     "name": "stdout",
     "output_type": "stream",
     "text": [
      "5\n",
      "<class 'int'>\n",
      "2021-05-18\n",
      "{'end_date': '2021-05-25', 'days_available': '7'}\n"
     ]
    }
   ],
   "source": [
    "import datetime\n",
    "from calendar import SATURDAY\n",
    "POSSIBLE_DAYS = set(range(8, 14 + 1)) | set(range(22, 28 + 1))\n",
    "\n",
    "status = 'Easy'\n",
    "\n",
    "if status == 'Easy':\n",
    "    add_day = 5\n",
    "elif status == 'Medium':\n",
    "    add_day = 10\n",
    "elif status == 'Hard':\n",
    "    add_day = 15\n",
    "else :\n",
    "    add_day = 0\n",
    "\n",
    "print(add_day)\n",
    "print(type(add_day))\n",
    "\n",
    "str_date = '2021-05-18'\n",
    "from_date = datetime.datetime.strptime(str_date, '%Y-%m-%d').date()\n",
    "print(from_date)\n",
    "output = {}\n",
    "\n",
    "def set_research_deadlines(from_date, add_day):\n",
    "    current_date = from_date\n",
    "    working_days_to_add = add_day\n",
    "    while working_days_to_add > 0:\n",
    "        current_date += datetime.timedelta(days=1)\n",
    "        weekday = current_date.weekday()\n",
    "        if weekday > 5:\n",
    "            continue\n",
    "        if weekday == 5 and current_date.day in POSSIBLE_DAYS:\n",
    "            continue\n",
    "        working_days_to_add -= 1\n",
    "    return current_date\n",
    "\n",
    "date_do = set_research_deadlines(from_date, add_day)\n",
    "delta = date_do - from_date\n",
    "days_available = str(delta.days)\n",
    "date_str = date_do.strftime(\"%Y-%m-%d\")\n",
    "output['end_date'] = date_str\n",
    "output['days_available'] = days_available\n",
    "print(output)"
   ]
  },
  {
   "cell_type": "code",
   "execution_count": 21,
   "metadata": {},
   "outputs": [
    {
     "data": {
      "text/plain": [
       "True"
      ]
     },
     "execution_count": 21,
     "metadata": {},
     "output_type": "execute_result"
    }
   ],
   "source": [
    "\n",
    "def second_fourth_saturday(date):\n",
    "    date -= datetime.timedelta(days=9)\n",
    "    return date.day in POSSIBLE_DAYS\n",
    "second_fourth_saturday(datetime.date.today())"
   ]
  },
  {
   "cell_type": "code",
   "execution_count": null,
   "metadata": {},
   "outputs": [],
   "source": []
  }
 ],
 "metadata": {
  "kernelspec": {
   "display_name": "Python 3",
   "language": "python",
   "name": "python3"
  },
  "language_info": {
   "codemirror_mode": {
    "name": "ipython",
    "version": 3
   },
   "file_extension": ".py",
   "mimetype": "text/x-python",
   "name": "python",
   "nbconvert_exporter": "python",
   "pygments_lexer": "ipython3",
   "version": "3.8.5"
  }
 },
 "nbformat": 4,
 "nbformat_minor": 4
}
