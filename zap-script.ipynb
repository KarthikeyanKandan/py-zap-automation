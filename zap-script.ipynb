{
 "cells": [
  {
   "cell_type": "code",
   "execution_count": 36,
   "metadata": {},
   "outputs": [
    {
     "name": "stdout",
     "output_type": "stream",
     "text": [
      "19.333333333333332\n",
      "19\n",
      "2021-05-18\n",
      "{'end_date': '2021-06-10', 'days_available': '23'}\n"
     ]
    }
   ],
   "source": [
    "import datetime\n",
    "from calendar import SATURDAY\n",
    "POSSIBLE_DAYS = set(range(8, 14 + 1)) | set(range(22, 28 + 1))\n",
    "\n",
    "r = int(input_data['recording_time'])\n",
    "if r < 10:\n",
    "    add_days = r/1\n",
    "elif 10 <= r <= 20:\n",
    "    add_days = r/1.25\n",
    "elif 20 <= r <= 30:\n",
    "    add_days = r/1.5\n",
    "else:\n",
    "    add_days = r/2.5\n",
    "    \n",
    "print(add_days)\n",
    "days_to_add = round(add_days)\n",
    "print(days_to_add)\n",
    "\n",
    "str_date = input_data['script_start_date']\n",
    "from_date = datetime.datetime.strptime(str_date, '%Y-%m-%d').date()\n",
    "print(from_date)\n",
    "output = {}\n",
    "\n",
    "def set_research_deadlines(from_date, add_day):\n",
    "    current_date = from_date\n",
    "    working_days_to_add = add_day\n",
    "    while working_days_to_add > 0:\n",
    "        current_date += datetime.timedelta(days=1)\n",
    "        weekday = current_date.weekday()\n",
    "        if weekday > 5:\n",
    "            continue\n",
    "        if weekday == 5 and current_date.day in POSSIBLE_DAYS:\n",
    "            continue\n",
    "        working_days_to_add -= 1\n",
    "    return current_date\n",
    "\n",
    "date_do = set_research_deadlines(from_date, days_to_add)\n",
    "delta = date_do - from_date\n",
    "days_available = str(delta.days)\n",
    "date_str = date_do.strftime(\"%Y-%m-%d\")\n",
    "output['end_date'] = date_str\n",
    "output['days_available'] = days_available\n",
    "print(output)"
   ]
  },
  {
   "cell_type": "code",
   "execution_count": null,
   "metadata": {},
   "outputs": [],
   "source": []
  }
 ],
 "metadata": {
  "kernelspec": {
   "display_name": "Python 3",
   "language": "python",
   "name": "python3"
  },
  "language_info": {
   "codemirror_mode": {
    "name": "ipython",
    "version": 3
   },
   "file_extension": ".py",
   "mimetype": "text/x-python",
   "name": "python",
   "nbconvert_exporter": "python",
   "pygments_lexer": "ipython3",
   "version": "3.8.5"
  }
 },
 "nbformat": 4,
 "nbformat_minor": 4
}
